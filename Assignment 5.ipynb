{
 "cells": [
  {
   "cell_type": "markdown",
   "id": "31a612c8",
   "metadata": {
    "id": "31a612c8"
   },
   "source": [
    "# Assignment 5: PCA and Neural Networks (50 marks)\n",
    "### Due: April 4 at 11:59pm\n",
    "\n",
    "### Name: Maryam Alsayed"
   ]
  },
  {
   "cell_type": "code",
   "execution_count": 1,
   "id": "cb68ecd2",
   "metadata": {
    "id": "cb68ecd2"
   },
   "outputs": [],
   "source": [
    "import numpy as np\n",
    "import pandas as pd\n",
    "import matplotlib.pyplot as plt\n",
    "import seaborn as sns"
   ]
  },
  {
   "cell_type": "markdown",
   "id": "652ce757",
   "metadata": {
    "id": "652ce757"
   },
   "source": [
    "## Part 1: Principle Component Analysis (PCA) (20 marks)"
   ]
  },
  {
   "cell_type": "markdown",
   "id": "9740443e",
   "metadata": {
    "id": "9740443e"
   },
   "source": [
    "### Step 1. Load data (2 marks)\n",
    "\n",
    "You have been asked by an agricultural company to help them predict the type of wheat based on kernel characteristics. You have been given all the information you need in the seeds_dataset.txt file on D2L. The original dataset can be found [here](https://archive.ics.uci.edu/dataset/236/seeds)\n",
    "\n",
    "The first step is to read in the file using pandas and inspect the first few columns. Note that the data is in a text file, so the separator is different compared to a csv file."
   ]
  },
  {
   "cell_type": "code",
   "execution_count": 3,
   "id": "b23df533",
   "metadata": {
    "colab": {
     "base_uri": "https://localhost:8080/",
     "height": 206
    },
    "id": "b23df533",
    "outputId": "1cb4a571-17c1-45ff-dde1-6ead356ed121"
   },
   "outputs": [
    {
     "data": {
      "application/vnd.google.colaboratory.intrinsic+json": {
       "summary": "{\n  \"name\": \"data\",\n  \"rows\": 210,\n  \"fields\": [\n    {\n      \"column\": \"area\",\n      \"properties\": {\n        \"dtype\": \"number\",\n        \"std\": 2.909699430687361,\n        \"min\": 10.59,\n        \"max\": 21.18,\n        \"num_unique_values\": 193,\n        \"samples\": [\n          14.86,\n          12.49,\n          16.53\n        ],\n        \"semantic_type\": \"\",\n        \"description\": \"\"\n      }\n    },\n    {\n      \"column\": \"perimeter\",\n      \"properties\": {\n        \"dtype\": \"number\",\n        \"std\": 1.305958726564022,\n        \"min\": 12.41,\n        \"max\": 17.25,\n        \"num_unique_values\": 170,\n        \"samples\": [\n          13.45,\n          14.41,\n          13.92\n        ],\n        \"semantic_type\": \"\",\n        \"description\": \"\"\n      }\n    },\n    {\n      \"column\": \"compactness\",\n      \"properties\": {\n        \"dtype\": \"number\",\n        \"std\": 0.0236294165838465,\n        \"min\": 0.8081,\n        \"max\": 0.9183,\n        \"num_unique_values\": 186,\n        \"samples\": [\n          0.9064,\n          0.856,\n          0.8372\n        ],\n        \"semantic_type\": \"\",\n        \"description\": \"\"\n      }\n    },\n    {\n      \"column\": \"length\",\n      \"properties\": {\n        \"dtype\": \"number\",\n        \"std\": 0.4430634777264492,\n        \"min\": 4.899,\n        \"max\": 6.675,\n        \"num_unique_values\": 188,\n        \"samples\": [\n          5.183,\n          5.186,\n          5.205\n        ],\n        \"semantic_type\": \"\",\n        \"description\": \"\"\n      }\n    },\n    {\n      \"column\": \"width\",\n      \"properties\": {\n        \"dtype\": \"number\",\n        \"std\": 0.37771444490658723,\n        \"min\": 2.63,\n        \"max\": 4.033,\n        \"num_unique_values\": 184,\n        \"samples\": [\n          3.168,\n          3.393,\n          2.641\n        ],\n        \"semantic_type\": \"\",\n        \"description\": \"\"\n      }\n    },\n    {\n      \"column\": \"asymmetry\",\n      \"properties\": {\n        \"dtype\": \"number\",\n        \"std\": 1.5035571308217794,\n        \"min\": 0.7651,\n        \"max\": 8.456,\n        \"num_unique_values\": 207,\n        \"samples\": [\n          6.388,\n          4.185,\n          4.92\n        ],\n        \"semantic_type\": \"\",\n        \"description\": \"\"\n      }\n    },\n    {\n      \"column\": \"groove_length\",\n      \"properties\": {\n        \"dtype\": \"number\",\n        \"std\": 0.4914804991024054,\n        \"min\": 4.519,\n        \"max\": 6.55,\n        \"num_unique_values\": 148,\n        \"samples\": [\n          5.308,\n          4.703,\n          4.957\n        ],\n        \"semantic_type\": \"\",\n        \"description\": \"\"\n      }\n    },\n    {\n      \"column\": \"target\",\n      \"properties\": {\n        \"dtype\": \"number\",\n        \"std\": 0,\n        \"min\": 1,\n        \"max\": 3,\n        \"num_unique_values\": 3,\n        \"samples\": [\n          1,\n          2,\n          3\n        ],\n        \"semantic_type\": \"\",\n        \"description\": \"\"\n      }\n    }\n  ]\n}",
       "type": "dataframe",
       "variable_name": "data"
      },
      "text/html": [
       "\n",
       "  <div id=\"df-b6133472-9cbf-474b-a341-a099694647ea\" class=\"colab-df-container\">\n",
       "    <div>\n",
       "<style scoped>\n",
       "    .dataframe tbody tr th:only-of-type {\n",
       "        vertical-align: middle;\n",
       "    }\n",
       "\n",
       "    .dataframe tbody tr th {\n",
       "        vertical-align: top;\n",
       "    }\n",
       "\n",
       "    .dataframe thead th {\n",
       "        text-align: right;\n",
       "    }\n",
       "</style>\n",
       "<table border=\"1\" class=\"dataframe\">\n",
       "  <thead>\n",
       "    <tr style=\"text-align: right;\">\n",
       "      <th></th>\n",
       "      <th>area</th>\n",
       "      <th>perimeter</th>\n",
       "      <th>compactness</th>\n",
       "      <th>length</th>\n",
       "      <th>width</th>\n",
       "      <th>asymmetry</th>\n",
       "      <th>groove_length</th>\n",
       "      <th>target</th>\n",
       "    </tr>\n",
       "  </thead>\n",
       "  <tbody>\n",
       "    <tr>\n",
       "      <th>0</th>\n",
       "      <td>15.26</td>\n",
       "      <td>14.84</td>\n",
       "      <td>0.8710</td>\n",
       "      <td>5.763</td>\n",
       "      <td>3.312</td>\n",
       "      <td>2.221</td>\n",
       "      <td>5.220</td>\n",
       "      <td>1</td>\n",
       "    </tr>\n",
       "    <tr>\n",
       "      <th>1</th>\n",
       "      <td>14.88</td>\n",
       "      <td>14.57</td>\n",
       "      <td>0.8811</td>\n",
       "      <td>5.554</td>\n",
       "      <td>3.333</td>\n",
       "      <td>1.018</td>\n",
       "      <td>4.956</td>\n",
       "      <td>1</td>\n",
       "    </tr>\n",
       "    <tr>\n",
       "      <th>2</th>\n",
       "      <td>14.29</td>\n",
       "      <td>14.09</td>\n",
       "      <td>0.9050</td>\n",
       "      <td>5.291</td>\n",
       "      <td>3.337</td>\n",
       "      <td>2.699</td>\n",
       "      <td>4.825</td>\n",
       "      <td>1</td>\n",
       "    </tr>\n",
       "    <tr>\n",
       "      <th>3</th>\n",
       "      <td>13.84</td>\n",
       "      <td>13.94</td>\n",
       "      <td>0.8955</td>\n",
       "      <td>5.324</td>\n",
       "      <td>3.379</td>\n",
       "      <td>2.259</td>\n",
       "      <td>4.805</td>\n",
       "      <td>1</td>\n",
       "    </tr>\n",
       "    <tr>\n",
       "      <th>4</th>\n",
       "      <td>16.14</td>\n",
       "      <td>14.99</td>\n",
       "      <td>0.9034</td>\n",
       "      <td>5.658</td>\n",
       "      <td>3.562</td>\n",
       "      <td>1.355</td>\n",
       "      <td>5.175</td>\n",
       "      <td>1</td>\n",
       "    </tr>\n",
       "  </tbody>\n",
       "</table>\n",
       "</div>\n",
       "    <div class=\"colab-df-buttons\">\n",
       "\n",
       "  <div class=\"colab-df-container\">\n",
       "    <button class=\"colab-df-convert\" onclick=\"convertToInteractive('df-b6133472-9cbf-474b-a341-a099694647ea')\"\n",
       "            title=\"Convert this dataframe to an interactive table.\"\n",
       "            style=\"display:none;\">\n",
       "\n",
       "  <svg xmlns=\"http://www.w3.org/2000/svg\" height=\"24px\" viewBox=\"0 -960 960 960\">\n",
       "    <path d=\"M120-120v-720h720v720H120Zm60-500h600v-160H180v160Zm220 220h160v-160H400v160Zm0 220h160v-160H400v160ZM180-400h160v-160H180v160Zm440 0h160v-160H620v160ZM180-180h160v-160H180v160Zm440 0h160v-160H620v160Z\"/>\n",
       "  </svg>\n",
       "    </button>\n",
       "\n",
       "  <style>\n",
       "    .colab-df-container {\n",
       "      display:flex;\n",
       "      gap: 12px;\n",
       "    }\n",
       "\n",
       "    .colab-df-convert {\n",
       "      background-color: #E8F0FE;\n",
       "      border: none;\n",
       "      border-radius: 50%;\n",
       "      cursor: pointer;\n",
       "      display: none;\n",
       "      fill: #1967D2;\n",
       "      height: 32px;\n",
       "      padding: 0 0 0 0;\n",
       "      width: 32px;\n",
       "    }\n",
       "\n",
       "    .colab-df-convert:hover {\n",
       "      background-color: #E2EBFA;\n",
       "      box-shadow: 0px 1px 2px rgba(60, 64, 67, 0.3), 0px 1px 3px 1px rgba(60, 64, 67, 0.15);\n",
       "      fill: #174EA6;\n",
       "    }\n",
       "\n",
       "    .colab-df-buttons div {\n",
       "      margin-bottom: 4px;\n",
       "    }\n",
       "\n",
       "    [theme=dark] .colab-df-convert {\n",
       "      background-color: #3B4455;\n",
       "      fill: #D2E3FC;\n",
       "    }\n",
       "\n",
       "    [theme=dark] .colab-df-convert:hover {\n",
       "      background-color: #434B5C;\n",
       "      box-shadow: 0px 1px 3px 1px rgba(0, 0, 0, 0.15);\n",
       "      filter: drop-shadow(0px 1px 2px rgba(0, 0, 0, 0.3));\n",
       "      fill: #FFFFFF;\n",
       "    }\n",
       "  </style>\n",
       "\n",
       "    <script>\n",
       "      const buttonEl =\n",
       "        document.querySelector('#df-b6133472-9cbf-474b-a341-a099694647ea button.colab-df-convert');\n",
       "      buttonEl.style.display =\n",
       "        google.colab.kernel.accessAllowed ? 'block' : 'none';\n",
       "\n",
       "      async function convertToInteractive(key) {\n",
       "        const element = document.querySelector('#df-b6133472-9cbf-474b-a341-a099694647ea');\n",
       "        const dataTable =\n",
       "          await google.colab.kernel.invokeFunction('convertToInteractive',\n",
       "                                                    [key], {});\n",
       "        if (!dataTable) return;\n",
       "\n",
       "        const docLinkHtml = 'Like what you see? Visit the ' +\n",
       "          '<a target=\"_blank\" href=https://colab.research.google.com/notebooks/data_table.ipynb>data table notebook</a>'\n",
       "          + ' to learn more about interactive tables.';\n",
       "        element.innerHTML = '';\n",
       "        dataTable['output_type'] = 'display_data';\n",
       "        await google.colab.output.renderOutput(dataTable, element);\n",
       "        const docLink = document.createElement('div');\n",
       "        docLink.innerHTML = docLinkHtml;\n",
       "        element.appendChild(docLink);\n",
       "      }\n",
       "    </script>\n",
       "  </div>\n",
       "\n",
       "\n",
       "<div id=\"df-13877066-f685-4329-9e97-01153dc524d8\">\n",
       "  <button class=\"colab-df-quickchart\" onclick=\"quickchart('df-13877066-f685-4329-9e97-01153dc524d8')\"\n",
       "            title=\"Suggest charts\"\n",
       "            style=\"display:none;\">\n",
       "\n",
       "<svg xmlns=\"http://www.w3.org/2000/svg\" height=\"24px\"viewBox=\"0 0 24 24\"\n",
       "     width=\"24px\">\n",
       "    <g>\n",
       "        <path d=\"M19 3H5c-1.1 0-2 .9-2 2v14c0 1.1.9 2 2 2h14c1.1 0 2-.9 2-2V5c0-1.1-.9-2-2-2zM9 17H7v-7h2v7zm4 0h-2V7h2v10zm4 0h-2v-4h2v4z\"/>\n",
       "    </g>\n",
       "</svg>\n",
       "  </button>\n",
       "\n",
       "<style>\n",
       "  .colab-df-quickchart {\n",
       "      --bg-color: #E8F0FE;\n",
       "      --fill-color: #1967D2;\n",
       "      --hover-bg-color: #E2EBFA;\n",
       "      --hover-fill-color: #174EA6;\n",
       "      --disabled-fill-color: #AAA;\n",
       "      --disabled-bg-color: #DDD;\n",
       "  }\n",
       "\n",
       "  [theme=dark] .colab-df-quickchart {\n",
       "      --bg-color: #3B4455;\n",
       "      --fill-color: #D2E3FC;\n",
       "      --hover-bg-color: #434B5C;\n",
       "      --hover-fill-color: #FFFFFF;\n",
       "      --disabled-bg-color: #3B4455;\n",
       "      --disabled-fill-color: #666;\n",
       "  }\n",
       "\n",
       "  .colab-df-quickchart {\n",
       "    background-color: var(--bg-color);\n",
       "    border: none;\n",
       "    border-radius: 50%;\n",
       "    cursor: pointer;\n",
       "    display: none;\n",
       "    fill: var(--fill-color);\n",
       "    height: 32px;\n",
       "    padding: 0;\n",
       "    width: 32px;\n",
       "  }\n",
       "\n",
       "  .colab-df-quickchart:hover {\n",
       "    background-color: var(--hover-bg-color);\n",
       "    box-shadow: 0 1px 2px rgba(60, 64, 67, 0.3), 0 1px 3px 1px rgba(60, 64, 67, 0.15);\n",
       "    fill: var(--button-hover-fill-color);\n",
       "  }\n",
       "\n",
       "  .colab-df-quickchart-complete:disabled,\n",
       "  .colab-df-quickchart-complete:disabled:hover {\n",
       "    background-color: var(--disabled-bg-color);\n",
       "    fill: var(--disabled-fill-color);\n",
       "    box-shadow: none;\n",
       "  }\n",
       "\n",
       "  .colab-df-spinner {\n",
       "    border: 2px solid var(--fill-color);\n",
       "    border-color: transparent;\n",
       "    border-bottom-color: var(--fill-color);\n",
       "    animation:\n",
       "      spin 1s steps(1) infinite;\n",
       "  }\n",
       "\n",
       "  @keyframes spin {\n",
       "    0% {\n",
       "      border-color: transparent;\n",
       "      border-bottom-color: var(--fill-color);\n",
       "      border-left-color: var(--fill-color);\n",
       "    }\n",
       "    20% {\n",
       "      border-color: transparent;\n",
       "      border-left-color: var(--fill-color);\n",
       "      border-top-color: var(--fill-color);\n",
       "    }\n",
       "    30% {\n",
       "      border-color: transparent;\n",
       "      border-left-color: var(--fill-color);\n",
       "      border-top-color: var(--fill-color);\n",
       "      border-right-color: var(--fill-color);\n",
       "    }\n",
       "    40% {\n",
       "      border-color: transparent;\n",
       "      border-right-color: var(--fill-color);\n",
       "      border-top-color: var(--fill-color);\n",
       "    }\n",
       "    60% {\n",
       "      border-color: transparent;\n",
       "      border-right-color: var(--fill-color);\n",
       "    }\n",
       "    80% {\n",
       "      border-color: transparent;\n",
       "      border-right-color: var(--fill-color);\n",
       "      border-bottom-color: var(--fill-color);\n",
       "    }\n",
       "    90% {\n",
       "      border-color: transparent;\n",
       "      border-bottom-color: var(--fill-color);\n",
       "    }\n",
       "  }\n",
       "</style>\n",
       "\n",
       "  <script>\n",
       "    async function quickchart(key) {\n",
       "      const quickchartButtonEl =\n",
       "        document.querySelector('#' + key + ' button');\n",
       "      quickchartButtonEl.disabled = true;  // To prevent multiple clicks.\n",
       "      quickchartButtonEl.classList.add('colab-df-spinner');\n",
       "      try {\n",
       "        const charts = await google.colab.kernel.invokeFunction(\n",
       "            'suggestCharts', [key], {});\n",
       "      } catch (error) {\n",
       "        console.error('Error during call to suggestCharts:', error);\n",
       "      }\n",
       "      quickchartButtonEl.classList.remove('colab-df-spinner');\n",
       "      quickchartButtonEl.classList.add('colab-df-quickchart-complete');\n",
       "    }\n",
       "    (() => {\n",
       "      let quickchartButtonEl =\n",
       "        document.querySelector('#df-13877066-f685-4329-9e97-01153dc524d8 button');\n",
       "      quickchartButtonEl.style.display =\n",
       "        google.colab.kernel.accessAllowed ? 'block' : 'none';\n",
       "    })();\n",
       "  </script>\n",
       "</div>\n",
       "\n",
       "    </div>\n",
       "  </div>\n"
      ],
      "text/plain": [
       "    area  perimeter  compactness  length  width  asymmetry  groove_length  \\\n",
       "0  15.26      14.84       0.8710   5.763  3.312      2.221          5.220   \n",
       "1  14.88      14.57       0.8811   5.554  3.333      1.018          4.956   \n",
       "2  14.29      14.09       0.9050   5.291  3.337      2.699          4.825   \n",
       "3  13.84      13.94       0.8955   5.324  3.379      2.259          4.805   \n",
       "4  16.14      14.99       0.9034   5.658  3.562      1.355          5.175   \n",
       "\n",
       "   target  \n",
       "0       1  \n",
       "1       1  \n",
       "2       1  \n",
       "3       1  \n",
       "4       1  "
      ]
     },
     "execution_count": 3,
     "metadata": {},
     "output_type": "execute_result"
    }
   ],
   "source": [
    "# TO DO: Import dataset and inspect the first few columns (1 mark)\n",
    "column_names = ['area', 'perimeter', 'compactness', 'length', 'width', 'asymmetry', 'groove_length', 'target']\n",
    "data = pd.read_csv(\"seeds_dataset.txt\", sep = '\\t', header = None, names = column_names)\n",
    "data.head()"
   ]
  },
  {
   "cell_type": "markdown",
   "id": "c0e47059",
   "metadata": {
    "id": "c0e47059"
   },
   "source": [
    "Next, you will need to separate the data into your feature matrix and target vector."
   ]
  },
  {
   "cell_type": "code",
   "execution_count": 4,
   "id": "ec3f7bb5",
   "metadata": {
    "colab": {
     "base_uri": "https://localhost:8080/"
    },
    "id": "ec3f7bb5",
    "outputId": "12a214e4-d57f-4bb9-e9ff-5dc737260e83"
   },
   "outputs": [
    {
     "name": "stdout",
     "output_type": "stream",
     "text": [
      "Feature matrix shape: (210, 7)\n",
      "Target vector shape: (210,)\n"
     ]
    }
   ],
   "source": [
    "# TO DO: Separate the data into feature matrix and target vector. Print the shape of X and y (1 mark)\n",
    "X = data.drop('target', axis = 1)\n",
    "y = data['target']\n",
    "\n",
    "print(\"Feature matrix shape:\", X.shape)\n",
    "print(\"Target vector shape:\", y.shape)"
   ]
  },
  {
   "cell_type": "markdown",
   "id": "4781acec",
   "metadata": {
    "id": "4781acec"
   },
   "source": [
    "### Steps 2+3: Preprocessing and Model Selection (3 marks)\n",
    "\n",
    "The first step is to split the data into training and testing sets."
   ]
  },
  {
   "cell_type": "code",
   "execution_count": 5,
   "id": "8b3930b1",
   "metadata": {
    "id": "8b3930b1"
   },
   "outputs": [],
   "source": [
    "# TO DO: Split the data into training and testing sets using 10% for test set (1 mark)\n",
    "from sklearn.model_selection import train_test_split\n",
    "\n",
    "X_train, X_test, y_train, y_test = train_test_split(X, y, test_size = 0.1, random_state = 0)"
   ]
  },
  {
   "cell_type": "markdown",
   "id": "fd4d4b84",
   "metadata": {
    "id": "fd4d4b84"
   },
   "source": [
    "Now that we have our training data, we need to decide which preprocessing methods to use. Since we do not want any information leaking into the model validation stage, we will need to create a Pipeline. For this case, our model for the Pipeline is `Logistic Regression(max_iter=1000)`."
   ]
  },
  {
   "cell_type": "code",
   "execution_count": 6,
   "id": "d208794d",
   "metadata": {
    "id": "d208794d"
   },
   "outputs": [],
   "source": [
    "# TO DO: Setup required preprocessing method(s) and model (1 mark)\n",
    "from sklearn.preprocessing import StandardScaler\n",
    "from sklearn.linear_model import LogisticRegression\n",
    "from sklearn.decomposition import PCA\n",
    "\n",
    "scaler = StandardScaler()\n",
    "pca = PCA()\n",
    "model = LogisticRegression(max_iter=1000)"
   ]
  },
  {
   "cell_type": "code",
   "execution_count": 7,
   "id": "79916456",
   "metadata": {
    "id": "79916456"
   },
   "outputs": [],
   "source": [
    "# TO DO: Setup pipeline (1 mark)\n",
    "from sklearn.pipeline import Pipeline\n",
    "pipeline = Pipeline([\n",
    "    ('scaler', scaler),\n",
    "    ('classifier', model)\n",
    "])"
   ]
  },
  {
   "cell_type": "markdown",
   "id": "44a64649",
   "metadata": {
    "id": "44a64649"
   },
   "source": [
    "### Step 4: Validation (2 marks)\n",
    "\n",
    "To validate the results, we need to use cross-validation. To make sure we are using the best hyperparmeters, we can use a grid search. The parameter grid has been provided below."
   ]
  },
  {
   "cell_type": "code",
   "execution_count": 8,
   "id": "f63702f0",
   "metadata": {
    "id": "f63702f0"
   },
   "outputs": [],
   "source": [
    "param_grid = [{'classifier': [LogisticRegression(max_iter=1000)],\n",
    "              'classifier__C': [0.01, 0.1, 1.0, 10.0, 100],\n",
    "              'classifier__fit_intercept': [True, False]}]"
   ]
  },
  {
   "cell_type": "code",
   "execution_count": 9,
   "id": "6b8c133e",
   "metadata": {
    "colab": {
     "base_uri": "https://localhost:8080/"
    },
    "id": "6b8c133e",
    "outputId": "dfc0b138-e56f-4efc-bd4d-c14ec5f4887e"
   },
   "outputs": [
    {
     "name": "stdout",
     "output_type": "stream",
     "text": [
      "Best params: {'classifier': LogisticRegression(max_iter=1000), 'classifier__C': 10.0, 'classifier__fit_intercept': True}\n",
      "Training accuracy: 0.9524893314366999\n",
      "Test accuracy: 1.0\n"
     ]
    }
   ],
   "source": [
    "#TO DO: Implement the grid search and print the best parameters, training score, cross-validation score and test score (2 marks)\n",
    "from sklearn.model_selection import GridSearchCV\n",
    "\n",
    "grid_search = GridSearchCV(pipeline, param_grid, cv=5, scoring = 'accuracy')\n",
    "grid_search.fit(X_train, y_train)\n",
    "\n",
    "print(\"Best params:\", grid_search.best_params_)\n",
    "print(\"Training accuracy:\", grid_search.best_score_)\n",
    "print(\"Test accuracy:\", grid_search.score(X_test, y_test))"
   ]
  },
  {
   "cell_type": "markdown",
   "id": "9a298fad",
   "metadata": {
    "id": "9a298fad"
   },
   "source": [
    "### Step 5: Visualize using PCA (5 marks)\n",
    "\n",
    "Now you can visualize the results from Step 4 using PCA. Use the best parameters from the previous step to predict the label for the testing data. For the plot, each data point must be colored based on the class label."
   ]
  },
  {
   "cell_type": "code",
   "execution_count": 10,
   "id": "5a4a7fc7",
   "metadata": {
    "id": "5a4a7fc7"
   },
   "outputs": [],
   "source": [
    "# TO DO: Predict target vector labels using best estimator (1 mark)\n",
    "best_model = grid_search.best_estimator_\n",
    "y_pred = best_model.predict(X_test)"
   ]
  },
  {
   "cell_type": "code",
   "execution_count": 11,
   "id": "91b40f81",
   "metadata": {
    "id": "91b40f81"
   },
   "outputs": [],
   "source": [
    "# TO DO: Reduce dimensions of test data for plotting (2 marks)\n",
    "pca = PCA(n_components = 2)\n",
    "scaler = best_model.named_steps['scaler']\n",
    "\n",
    "X_test_scaled = scaler.transform(X_test)\n",
    "X_test_pca = pca.fit_transform(X_test_scaled)"
   ]
  },
  {
   "cell_type": "code",
   "execution_count": 12,
   "id": "fec7570c",
   "metadata": {
    "colab": {
     "base_uri": "https://localhost:8080/",
     "height": 452
    },
    "id": "fec7570c",
    "outputId": "d7fa53a1-b835-4128-a453-e4dff4e636a1",
    "scrolled": true
   },
   "outputs": [
    {
     "data": {
      "image/png": "[encoded data removed]",
      "text/plain": [
       "<Figure size 640x480 with 1 Axes>"
      ]
     },
     "metadata": {},
     "output_type": "display_data"
    }
   ],
   "source": [
    "# TO DO: Plot test points colored by predicted label (2 marks)\n",
    "plt.figure()\n",
    "scatter = plt.scatter(X_test_pca[:, 0], X_test_pca[:, 1], c=y_pred, cmap = 'viridis', alpha = 0.7)\n",
    "plt.title(\"PCA Visualization\")\n",
    "plt.show()"
   ]
  },
  {
   "cell_type": "markdown",
   "id": "b865f80b",
   "metadata": {
    "id": "b865f80b"
   },
   "source": [
    "### Questions (4 marks)\n",
    "\n",
    "1. Did the logistic regression model work well for this dataset? Why would you make this conclusion?\n",
    "1. Did PCA work well for this model? How does this relate to the results from the model used?\n",
    "\n",
    "- Yes, the logistic regression model worked well for this dataset. I made this conclusion based on the test accuracy, which was very high.\n",
    "- Yes, PCA worked fairly well for this model. This is clear based on the plot, which shows 3 distinct clusters of points."
   ]
  },
  {
   "cell_type": "markdown",
   "id": "6f81b972",
   "metadata": {
    "id": "6f81b972"
   },
   "source": [
    "### Process Description (4 marks)\n",
    "Please describe the process you used to create your code. Cite any websites or generative AI tools used. You can use the following questions as guidance:\n",
    "1. Where did you source your code?\n",
    "1. In what order did you complete the steps?\n",
    "1. If you used generative AI, what prompts did you use? Did you need to modify the code at all? Why or why not?\n",
    "1. Did you have any challenges? If yes, what were they? If not, what helped you to be successful?\n",
    "\n",
    "- I sourced my code from Kaggle (dataset information), lecture slides/examples, and generative AI.\n",
    "- I completed the steps in the order that they were provided.\n",
    "- The prompts I used involved providing the AI with code I had already completed alongside the specific to-do and asking it to explain the ideas or explain the process required to complete the task. I did not have to modify the code much as it was produced in small chunks or used for bug-fixing.\n",
    "- I did not face many challenges with this section. I found that reading the documentation of the dataset and the lecture slides was helpful in completing the tasks."
   ]
  },
  {
   "cell_type": "markdown",
   "id": "8ed521fc",
   "metadata": {
    "id": "8ed521fc"
   },
   "source": [
    "## Part 2: Neural Networks (28 marks)\n",
    "\n",
    "For this assignment, you will be practicing using scikit-learn and TensorFlow to implement basic neural networks (MLP). The dataset we will be using is the energy dataset from Yellowbrick (https://www.scikit-yb.org/en/latest/api/datasets/energy.html)."
   ]
  },
  {
   "cell_type": "markdown",
   "id": "c4c16745",
   "metadata": {
    "id": "c4c16745"
   },
   "source": [
    "### Step 1: Load data (1 mark)\n",
    "\n",
    "You will need to load the file and split it into the feature matrix and target vector. Note that this dataset has two targets, heating load and cooling load. To retrieve the single target dataset, you need `return_dataset=False`."
   ]
  },
  {
   "cell_type": "code",
   "execution_count": 13,
   "id": "f39d53a1",
   "metadata": {
    "id": "f39d53a1"
   },
   "outputs": [],
   "source": [
    "# TO DO: Load dataset into feature matrix and target vector (1 mark)\n",
    "import yellowbrick\n",
    "from yellowbrick.datasets import load_energy\n",
    "\n",
    "X, y = load_energy(return_dataset=False)"
   ]
  },
  {
   "cell_type": "markdown",
   "id": "2f706755",
   "metadata": {
    "id": "2f706755"
   },
   "source": [
    "### Step 2: Process your dataset (6 marks)"
   ]
  },
  {
   "cell_type": "code",
   "execution_count": 14,
   "id": "f546a661",
   "metadata": {
    "colab": {
     "base_uri": "https://localhost:8080/",
     "height": 335
    },
    "id": "f546a661",
    "outputId": "cf731042-107d-42e2-fcbb-5d8db4056c38"
   },
   "outputs": [
    {
     "data": {
      "text/html": [
       "<div>\n",
       "<style scoped>\n",
       "    .dataframe tbody tr th:only-of-type {\n",
       "        vertical-align: middle;\n",
       "    }\n",
       "\n",
       "    .dataframe tbody tr th {\n",
       "        vertical-align: top;\n",
       "    }\n",
       "\n",
       "    .dataframe thead th {\n",
       "        text-align: right;\n",
       "    }\n",
       "</style>\n",
       "<table border=\"1\" class=\"dataframe\">\n",
       "  <thead>\n",
       "    <tr style=\"text-align: right;\">\n",
       "      <th></th>\n",
       "      <th>0</th>\n",
       "    </tr>\n",
       "  </thead>\n",
       "  <tbody>\n",
       "    <tr>\n",
       "      <th>relative compactness</th>\n",
       "      <td>0</td>\n",
       "    </tr>\n",
       "    <tr>\n",
       "      <th>surface area</th>\n",
       "      <td>0</td>\n",
       "    </tr>\n",
       "    <tr>\n",
       "      <th>wall area</th>\n",
       "      <td>0</td>\n",
       "    </tr>\n",
       "    <tr>\n",
       "      <th>roof area</th>\n",
       "      <td>0</td>\n",
       "    </tr>\n",
       "    <tr>\n",
       "      <th>overall height</th>\n",
       "      <td>0</td>\n",
       "    </tr>\n",
       "    <tr>\n",
       "      <th>orientation</th>\n",
       "      <td>0</td>\n",
       "    </tr>\n",
       "    <tr>\n",
       "      <th>glazing area</th>\n",
       "      <td>0</td>\n",
       "    </tr>\n",
       "    <tr>\n",
       "      <th>glazing area distribution</th>\n",
       "      <td>0</td>\n",
       "    </tr>\n",
       "  </tbody>\n",
       "</table>\n",
       "</div><br><label><b>dtype:</b> int64</label>"
      ],
      "text/plain": [
       "relative compactness         0\n",
       "surface area                 0\n",
       "wall area                    0\n",
       "roof area                    0\n",
       "overall height               0\n",
       "orientation                  0\n",
       "glazing area                 0\n",
       "glazing area distribution    0\n",
       "dtype: int64"
      ]
     },
     "execution_count": 14,
     "metadata": {},
     "output_type": "execute_result"
    }
   ],
   "source": [
    "# TO DO: Check if there are any missing values - if yes, decide how to fill them (1 mark)\n",
    "X.isnull().sum() # all results are 0, no missing values to fill"
   ]
  },
  {
   "cell_type": "code",
   "execution_count": 15,
   "id": "55a1b3fe",
   "metadata": {
    "colab": {
     "base_uri": "https://localhost:8080/"
    },
    "id": "55a1b3fe",
    "outputId": "72acfdcb-dcd4-49ad-8806-c37a26807183"
   },
   "outputs": [
    {
     "name": "stdout",
     "output_type": "stream",
     "text": [
      "relative compactness         float64\n",
      "surface area                 float64\n",
      "wall area                    float64\n",
      "roof area                    float64\n",
      "overall height               float64\n",
      "orientation                    int64\n",
      "glazing area                 float64\n",
      "glazing area distribution      int64\n",
      "dtype: object\n",
      "\n",
      " relative compactness         12\n",
      "surface area                 12\n",
      "wall area                     7\n",
      "roof area                     4\n",
      "overall height                2\n",
      "orientation                   4\n",
      "glazing area                  4\n",
      "glazing area distribution     6\n",
      "dtype: int64\n"
     ]
    }
   ],
   "source": [
    "# TO DO: Check data type for each column and the number of unique values - do you need to encode any of them? (1 mark)\n",
    "print(X.dtypes)\n",
    "print('\\n', X.nunique())"
   ]
  },
  {
   "cell_type": "code",
   "execution_count": 16,
   "id": "30488872",
   "metadata": {
    "colab": {
     "base_uri": "https://localhost:8080/",
     "height": 300
    },
    "id": "30488872",
    "outputId": "a548392f-30a9-4566-a6b5-99bf8da06347"
   },
   "outputs": [
    {
     "data": {
      "application/vnd.google.colaboratory.intrinsic+json": {
       "summary": "{\n  \"name\": \"X\",\n  \"rows\": 8,\n  \"fields\": [\n    {\n      \"column\": \"relative compactness\",\n      \"properties\": {\n        \"dtype\": \"number\",\n        \"std\": 271.29009996338544,\n        \"min\": 0.10577747587475206,\n        \"max\": 768.0,\n        \"num_unique_values\": 8,\n        \"samples\": [\n          0.7641666666666667,\n          0.75,\n          768.0\n        ],\n        \"semantic_type\": \"\",\n        \"description\": \"\"\n      }\n    },\n    {\n      \"column\": \"surface area\",\n      \"properties\": {\n        \"dtype\": \"number\",\n        \"std\": 230.20226449743723,\n        \"min\": 88.08611605586826,\n        \"max\": 808.5,\n        \"num_unique_values\": 8,\n        \"samples\": [\n          671.7083333333334,\n          673.75,\n          768.0\n        ],\n        \"semantic_type\": \"\",\n        \"description\": \"\"\n      }\n    },\n    {\n      \"column\": \"wall area\",\n      \"properties\": {\n        \"dtype\": \"number\",\n        \"std\": 203.13824699852012,\n        \"min\": 43.6264814379949,\n        \"max\": 768.0,\n        \"num_unique_values\": 7,\n        \"samples\": [\n          768.0,\n          318.5,\n          343.0\n        ],\n        \"semantic_type\": \"\",\n        \"description\": \"\"\n      }\n    },\n    {\n      \"column\": \"roof area\",\n      \"properties\": {\n        \"dtype\": \"number\",\n        \"std\": 223.91944425134614,\n        \"min\": 45.165950222920344,\n        \"max\": 768.0,\n        \"num_unique_values\": 7,\n        \"samples\": [\n          768.0,\n          176.60416666666666,\n          183.75\n        ],\n        \"semantic_type\": \"\",\n        \"description\": \"\"\n      }\n    },\n    {\n      \"column\": \"overall height\",\n      \"properties\": {\n        \"dtype\": \"number\",\n        \"std\": 269.8555877651259,\n        \"min\": 1.7511404367453496,\n        \"max\": 768.0,\n        \"num_unique_values\": 5,\n        \"samples\": [\n          5.25,\n          7.0,\n          1.7511404367453496\n        ],\n        \"semantic_type\": \"\",\n        \"description\": \"\"\n      }\n    },\n    {\n      \"column\": \"orientation\",\n      \"properties\": {\n        \"dtype\": \"number\",\n        \"std\": 270.41460739699926,\n        \"min\": 1.1187625870603635,\n        \"max\": 768.0,\n        \"num_unique_values\": 7,\n        \"samples\": [\n          768.0,\n          3.5,\n          4.25\n        ],\n        \"semantic_type\": \"\",\n        \"description\": \"\"\n      }\n    },\n    {\n      \"column\": \"glazing area\",\n      \"properties\": {\n        \"dtype\": \"number\",\n        \"std\": 271.4523896545719,\n        \"min\": 0.0,\n        \"max\": 768.0,\n        \"num_unique_values\": 7,\n        \"samples\": [\n          768.0,\n          0.234375,\n          0.25\n        ],\n        \"semantic_type\": \"\",\n        \"description\": \"\"\n      }\n    },\n    {\n      \"column\": \"glazing area distribution\",\n      \"properties\": {\n        \"dtype\": \"number\",\n        \"std\": 270.61849311186955,\n        \"min\": 0.0,\n        \"max\": 768.0,\n        \"num_unique_values\": 8,\n        \"samples\": [\n          2.8125,\n          3.0,\n          768.0\n        ],\n        \"semantic_type\": \"\",\n        \"description\": \"\"\n      }\n    }\n  ]\n}",
       "type": "dataframe"
      },
      "text/html": [
       "\n",
       "  <div id=\"df-c83a3b31-6972-4d14-82ba-9921e4c9d895\" class=\"colab-df-container\">\n",
       "    <div>\n",
       "<style scoped>\n",
       "    .dataframe tbody tr th:only-of-type {\n",
       "        vertical-align: middle;\n",
       "    }\n",
       "\n",
       "    .dataframe tbody tr th {\n",
       "        vertical-align: top;\n",
       "    }\n",
       "\n",
       "    .dataframe thead th {\n",
       "        text-align: right;\n",
       "    }\n",
       "</style>\n",
       "<table border=\"1\" class=\"dataframe\">\n",
       "  <thead>\n",
       "    <tr style=\"text-align: right;\">\n",
       "      <th></th>\n",
       "      <th>relative compactness</th>\n",
       "      <th>surface area</th>\n",
       "      <th>wall area</th>\n",
       "      <th>roof area</th>\n",
       "      <th>overall height</th>\n",
       "      <th>orientation</th>\n",
       "      <th>glazing area</th>\n",
       "      <th>glazing area distribution</th>\n",
       "    </tr>\n",
       "  </thead>\n",
       "  <tbody>\n",
       "    <tr>\n",
       "      <th>count</th>\n",
       "      <td>768.000000</td>\n",
       "      <td>768.000000</td>\n",
       "      <td>768.000000</td>\n",
       "      <td>768.000000</td>\n",
       "      <td>768.00000</td>\n",
       "      <td>768.000000</td>\n",
       "      <td>768.000000</td>\n",
       "      <td>768.00000</td>\n",
       "    </tr>\n",
       "    <tr>\n",
       "      <th>mean</th>\n",
       "      <td>0.764167</td>\n",
       "      <td>671.708333</td>\n",
       "      <td>318.500000</td>\n",
       "      <td>176.604167</td>\n",
       "      <td>5.25000</td>\n",
       "      <td>3.500000</td>\n",
       "      <td>0.234375</td>\n",
       "      <td>2.81250</td>\n",
       "    </tr>\n",
       "    <tr>\n",
       "      <th>std</th>\n",
       "      <td>0.105777</td>\n",
       "      <td>88.086116</td>\n",
       "      <td>43.626481</td>\n",
       "      <td>45.165950</td>\n",
       "      <td>1.75114</td>\n",
       "      <td>1.118763</td>\n",
       "      <td>0.133221</td>\n",
       "      <td>1.55096</td>\n",
       "    </tr>\n",
       "    <tr>\n",
       "      <th>min</th>\n",
       "      <td>0.620000</td>\n",
       "      <td>514.500000</td>\n",
       "      <td>245.000000</td>\n",
       "      <td>110.250000</td>\n",
       "      <td>3.50000</td>\n",
       "      <td>2.000000</td>\n",
       "      <td>0.000000</td>\n",
       "      <td>0.00000</td>\n",
       "    </tr>\n",
       "    <tr>\n",
       "      <th>25%</th>\n",
       "      <td>0.682500</td>\n",
       "      <td>606.375000</td>\n",
       "      <td>294.000000</td>\n",
       "      <td>140.875000</td>\n",
       "      <td>3.50000</td>\n",
       "      <td>2.750000</td>\n",
       "      <td>0.100000</td>\n",
       "      <td>1.75000</td>\n",
       "    </tr>\n",
       "    <tr>\n",
       "      <th>50%</th>\n",
       "      <td>0.750000</td>\n",
       "      <td>673.750000</td>\n",
       "      <td>318.500000</td>\n",
       "      <td>183.750000</td>\n",
       "      <td>5.25000</td>\n",
       "      <td>3.500000</td>\n",
       "      <td>0.250000</td>\n",
       "      <td>3.00000</td>\n",
       "    </tr>\n",
       "    <tr>\n",
       "      <th>75%</th>\n",
       "      <td>0.830000</td>\n",
       "      <td>741.125000</td>\n",
       "      <td>343.000000</td>\n",
       "      <td>220.500000</td>\n",
       "      <td>7.00000</td>\n",
       "      <td>4.250000</td>\n",
       "      <td>0.400000</td>\n",
       "      <td>4.00000</td>\n",
       "    </tr>\n",
       "    <tr>\n",
       "      <th>max</th>\n",
       "      <td>0.980000</td>\n",
       "      <td>808.500000</td>\n",
       "      <td>416.500000</td>\n",
       "      <td>220.500000</td>\n",
       "      <td>7.00000</td>\n",
       "      <td>5.000000</td>\n",
       "      <td>0.400000</td>\n",
       "      <td>5.00000</td>\n",
       "    </tr>\n",
       "  </tbody>\n",
       "</table>\n",
       "</div>\n",
       "    <div class=\"colab-df-buttons\">\n",
       "\n",
       "  <div class=\"colab-df-container\">\n",
       "    <button class=\"colab-df-convert\" onclick=\"convertToInteractive('df-c83a3b31-6972-4d14-82ba-9921e4c9d895')\"\n",
       "            title=\"Convert this dataframe to an interactive table.\"\n",
       "            style=\"display:none;\">\n",
       "\n",
       "  <svg xmlns=\"http://www.w3.org/2000/svg\" height=\"24px\" viewBox=\"0 -960 960 960\">\n",
       "    <path d=\"M120-120v-720h720v720H120Zm60-500h600v-160H180v160Zm220 220h160v-160H400v160Zm0 220h160v-160H400v160ZM180-400h160v-160H180v160Zm440 0h160v-160H620v160ZM180-180h160v-160H180v160Zm440 0h160v-160H620v160Z\"/>\n",
       "  </svg>\n",
       "    </button>\n",
       "\n",
       "  <style>\n",
       "    .colab-df-container {\n",
       "      display:flex;\n",
       "      gap: 12px;\n",
       "    }\n",
       "\n",
       "    .colab-df-convert {\n",
       "      background-color: #E8F0FE;\n",
       "      border: none;\n",
       "      border-radius: 50%;\n",
       "      cursor: pointer;\n",
       "      display: none;\n",
       "      fill: #1967D2;\n",
       "      height: 32px;\n",
       "      padding: 0 0 0 0;\n",
       "      width: 32px;\n",
       "    }\n",
       "\n",
       "    .colab-df-convert:hover {\n",
       "      background-color: #E2EBFA;\n",
       "      box-shadow: 0px 1px 2px rgba(60, 64, 67, 0.3), 0px 1px 3px 1px rgba(60, 64, 67, 0.15);\n",
       "      fill: #174EA6;\n",
       "    }\n",
       "\n",
       "    .colab-df-buttons div {\n",
       "      margin-bottom: 4px;\n",
       "    }\n",
       "\n",
       "    [theme=dark] .colab-df-convert {\n",
       "      background-color: #3B4455;\n",
       "      fill: #D2E3FC;\n",
       "    }\n",
       "\n",
       "    [theme=dark] .colab-df-convert:hover {\n",
       "      background-color: #434B5C;\n",
       "      box-shadow: 0px 1px 3px 1px rgba(0, 0, 0, 0.15);\n",
       "      filter: drop-shadow(0px 1px 2px rgba(0, 0, 0, 0.3));\n",
       "      fill: #FFFFFF;\n",
       "    }\n",
       "  </style>\n",
       "\n",
       "    <script>\n",
       "      const buttonEl =\n",
       "        document.querySelector('#df-c83a3b31-6972-4d14-82ba-9921e4c9d895 button.colab-df-convert');\n",
       "      buttonEl.style.display =\n",
       "        google.colab.kernel.accessAllowed ? 'block' : 'none';\n",
       "\n",
       "      async function convertToInteractive(key) {\n",
       "        const element = document.querySelector('#df-c83a3b31-6972-4d14-82ba-9921e4c9d895');\n",
       "        const dataTable =\n",
       "          await google.colab.kernel.invokeFunction('convertToInteractive',\n",
       "                                                    [key], {});\n",
       "        if (!dataTable) return;\n",
       "\n",
       "        const docLinkHtml = 'Like what you see? Visit the ' +\n",
       "          '<a target=\"_blank\" href=https://colab.research.google.com/notebooks/data_table.ipynb>data table notebook</a>'\n",
       "          + ' to learn more about interactive tables.';\n",
       "        element.innerHTML = '';\n",
       "        dataTable['output_type'] = 'display_data';\n",
       "        await google.colab.output.renderOutput(dataTable, element);\n",
       "        const docLink = document.createElement('div');\n",
       "        docLink.innerHTML = docLinkHtml;\n",
       "        element.appendChild(docLink);\n",
       "      }\n",
       "    </script>\n",
       "  </div>\n",
       "\n",
       "\n",
       "<div id=\"df-90f59455-1e19-456f-82f4-56cd824250d4\">\n",
       "  <button class=\"colab-df-quickchart\" onclick=\"quickchart('df-90f59455-1e19-456f-82f4-56cd824250d4')\"\n",
       "            title=\"Suggest charts\"\n",
       "            style=\"display:none;\">\n",
       "\n",
       "<svg xmlns=\"http://www.w3.org/2000/svg\" height=\"24px\"viewBox=\"0 0 24 24\"\n",
       "     width=\"24px\">\n",
       "    <g>\n",
       "        <path d=\"M19 3H5c-1.1 0-2 .9-2 2v14c0 1.1.9 2 2 2h14c1.1 0 2-.9 2-2V5c0-1.1-.9-2-2-2zM9 17H7v-7h2v7zm4 0h-2V7h2v10zm4 0h-2v-4h2v4z\"/>\n",
       "    </g>\n",
       "</svg>\n",
       "  </button>\n",
       "\n",
       "<style>\n",
       "  .colab-df-quickchart {\n",
       "      --bg-color: #E8F0FE;\n",
       "      --fill-color: #1967D2;\n",
       "      --hover-bg-color: #E2EBFA;\n",
       "      --hover-fill-color: #174EA6;\n",
       "      --disabled-fill-color: #AAA;\n",
       "      --disabled-bg-color: #DDD;\n",
       "  }\n",
       "\n",
       "  [theme=dark] .colab-df-quickchart {\n",
       "      --bg-color: #3B4455;\n",
       "      --fill-color: #D2E3FC;\n",
       "      --hover-bg-color: #434B5C;\n",
       "      --hover-fill-color: #FFFFFF;\n",
       "      --disabled-bg-color: #3B4455;\n",
       "      --disabled-fill-color: #666;\n",
       "  }\n",
       "\n",
       "  .colab-df-quickchart {\n",
       "    background-color: var(--bg-color);\n",
       "    border: none;\n",
       "    border-radius: 50%;\n",
       "    cursor: pointer;\n",
       "    display: none;\n",
       "    fill: var(--fill-color);\n",
       "    height: 32px;\n",
       "    padding: 0;\n",
       "    width: 32px;\n",
       "  }\n",
       "\n",
       "  .colab-df-quickchart:hover {\n",
       "    background-color: var(--hover-bg-color);\n",
       "    box-shadow: 0 1px 2px rgba(60, 64, 67, 0.3), 0 1px 3px 1px rgba(60, 64, 67, 0.15);\n",
       "    fill: var(--button-hover-fill-color);\n",
       "  }\n",
       "\n",
       "  .colab-df-quickchart-complete:disabled,\n",
       "  .colab-df-quickchart-complete:disabled:hover {\n",
       "    background-color: var(--disabled-bg-color);\n",
       "    fill: var(--disabled-fill-color);\n",
       "    box-shadow: none;\n",
       "  }\n",
       "\n",
       "  .colab-df-spinner {\n",
       "    border: 2px solid var(--fill-color);\n",
       "    border-color: transparent;\n",
       "    border-bottom-color: var(--fill-color);\n",
       "    animation:\n",
       "      spin 1s steps(1) infinite;\n",
       "  }\n",
       "\n",
       "  @keyframes spin {\n",
       "    0% {\n",
       "      border-color: transparent;\n",
       "      border-bottom-color: var(--fill-color);\n",
       "      border-left-color: var(--fill-color);\n",
       "    }\n",
       "    20% {\n",
       "      border-color: transparent;\n",
       "      border-left-color: var(--fill-color);\n",
       "      border-top-color: var(--fill-color);\n",
       "    }\n",
       "    30% {\n",
       "      border-color: transparent;\n",
       "      border-left-color: var(--fill-color);\n",
       "      border-top-color: var(--fill-color);\n",
       "      border-right-color: var(--fill-color);\n",
       "    }\n",
       "    40% {\n",
       "      border-color: transparent;\n",
       "      border-right-color: var(--fill-color);\n",
       "      border-top-color: var(--fill-color);\n",
       "    }\n",
       "    60% {\n",
       "      border-color: transparent;\n",
       "      border-right-color: var(--fill-color);\n",
       "    }\n",
       "    80% {\n",
       "      border-color: transparent;\n",
       "      border-right-color: var(--fill-color);\n",
       "      border-bottom-color: var(--fill-color);\n",
       "    }\n",
       "    90% {\n",
       "      border-color: transparent;\n",
       "      border-bottom-color: var(--fill-color);\n",
       "    }\n",
       "  }\n",
       "</style>\n",
       "\n",
       "  <script>\n",
       "    async function quickchart(key) {\n",
       "      const quickchartButtonEl =\n",
       "        document.querySelector('#' + key + ' button');\n",
       "      quickchartButtonEl.disabled = true;  // To prevent multiple clicks.\n",
       "      quickchartButtonEl.classList.add('colab-df-spinner');\n",
       "      try {\n",
       "        const charts = await google.colab.kernel.invokeFunction(\n",
       "            'suggestCharts', [key], {});\n",
       "      } catch (error) {\n",
       "        console.error('Error during call to suggestCharts:', error);\n",
       "      }\n",
       "      quickchartButtonEl.classList.remove('colab-df-spinner');\n",
       "      quickchartButtonEl.classList.add('colab-df-quickchart-complete');\n",
       "    }\n",
       "    (() => {\n",
       "      let quickchartButtonEl =\n",
       "        document.querySelector('#df-90f59455-1e19-456f-82f4-56cd824250d4 button');\n",
       "      quickchartButtonEl.style.display =\n",
       "        google.colab.kernel.accessAllowed ? 'block' : 'none';\n",
       "    })();\n",
       "  </script>\n",
       "</div>\n",
       "\n",
       "    </div>\n",
       "  </div>\n"
      ],
      "text/plain": [
       "       relative compactness  surface area   wall area   roof area  \\\n",
       "count            768.000000    768.000000  768.000000  768.000000   \n",
       "mean               0.764167    671.708333  318.500000  176.604167   \n",
       "std                0.105777     88.086116   43.626481   45.165950   \n",
       "min                0.620000    514.500000  245.000000  110.250000   \n",
       "25%                0.682500    606.375000  294.000000  140.875000   \n",
       "50%                0.750000    673.750000  318.500000  183.750000   \n",
       "75%                0.830000    741.125000  343.000000  220.500000   \n",
       "max                0.980000    808.500000  416.500000  220.500000   \n",
       "\n",
       "       overall height  orientation  glazing area  glazing area distribution  \n",
       "count       768.00000   768.000000    768.000000                  768.00000  \n",
       "mean          5.25000     3.500000      0.234375                    2.81250  \n",
       "std           1.75114     1.118763      0.133221                    1.55096  \n",
       "min           3.50000     2.000000      0.000000                    0.00000  \n",
       "25%           3.50000     2.750000      0.100000                    1.75000  \n",
       "50%           5.25000     3.500000      0.250000                    3.00000  \n",
       "75%           7.00000     4.250000      0.400000                    4.00000  \n",
       "max           7.00000     5.000000      0.400000                    5.00000  "
      ]
     },
     "execution_count": 16,
     "metadata": {},
     "output_type": "execute_result"
    }
   ],
   "source": [
    "# TO DO: Check the range of each feature - do you need to scale your data? (1 mark)\n",
    "X.describe()"
   ]
  },
  {
   "cell_type": "code",
   "execution_count": 17,
   "id": "505da56c",
   "metadata": {
    "id": "505da56c"
   },
   "outputs": [],
   "source": [
    "# TO DO: Split your data into training and testing sets using 20% for test set (1 mark)\n",
    "from sklearn.model_selection import train_test_split\n",
    "\n",
    "X_train, X_test, y_train, y_test = train_test_split(X, y, test_size = 0.2, random_state = 0)"
   ]
  },
  {
   "cell_type": "code",
   "execution_count": 18,
   "id": "84756a2d",
   "metadata": {
    "id": "84756a2d"
   },
   "outputs": [],
   "source": [
    "# TO DO: Implement scaling and/or encoding here if needed (2 marks for preprocessing properly or justifying why it isn't needed)\n",
    "from sklearn.preprocessing import StandardScaler\n",
    "\n",
    "scaler = StandardScaler()\n",
    "X_train_scaled = scaler.fit_transform(X_train)\n",
    "X_test_scaled = scaler.fit_transform(X_test)\n",
    "\n",
    "# Don't need to encode since there are no non-numeric values"
   ]
  },
  {
   "cell_type": "markdown",
   "id": "606f158c",
   "metadata": {
    "id": "606f158c"
   },
   "source": [
    "### Step 3: Implement Neural Network (MLP) (8 marks)\n",
    "\n",
    "### Part 1: Use scikit-learn (3 marks)\n",
    "\n",
    "For each case, you will need to find the predicted target values."
   ]
  },
  {
   "cell_type": "code",
   "execution_count": 19,
   "id": "0c566105",
   "metadata": {
    "id": "0c566105"
   },
   "outputs": [],
   "source": [
    "# TO DO: Test using default parameters and max_iter = 10000 (1 mark)\n",
    "from sklearn.neural_network import MLPRegressor\n",
    "\n",
    "mlp = MLPRegressor(max_iter=10000, random_state = 0)\n",
    "mlp.fit(X_train_scaled, y_train)\n",
    "y_pred_one = mlp.predict(X_test_scaled)"
   ]
  },
  {
   "cell_type": "code",
   "execution_count": 20,
   "id": "d5349975",
   "metadata": {
    "id": "d5349975"
   },
   "outputs": [],
   "source": [
    "# TO DO: Test using two hidden layers with 100 nodes each (1 mark)\n",
    "mlp_two_layers = MLPRegressor(hidden_layer_sizes = (100, 100),\n",
    "                             max_iter=10000,\n",
    "                             random_state = 0)\n",
    "mlp_two_layers.fit(X_train_scaled, y_train)\n",
    "y_pred_two = mlp_two_layers.predict(X_test_scaled)"
   ]
  },
  {
   "cell_type": "code",
   "execution_count": 21,
   "id": "ff8ed7cd",
   "metadata": {
    "id": "ff8ed7cd"
   },
   "outputs": [],
   "source": [
    "# TO DO: Test using three hidden layers with 100 nodes each (1 mark)\n",
    "mlp_three_layers = MLPRegressor(hidden_layer_sizes = (100, 100, 100),\n",
    "                               max_iter = 10000,\n",
    "                               random_state = 0)\n",
    "mlp_three_layers.fit(X_train_scaled, y_train)\n",
    "y_pred_three = mlp_three_layers.predict(X_test_scaled)"
   ]
  },
  {
   "cell_type": "markdown",
   "id": "32f3582c",
   "metadata": {
    "id": "32f3582c"
   },
   "source": [
    "### Part 2: Use TensorFlow (5 marks)"
   ]
  },
  {
   "cell_type": "code",
   "execution_count": 23,
   "id": "75c17195",
   "metadata": {
    "id": "75c17195"
   },
   "outputs": [],
   "source": [
    "import tensorflow as tf\n",
    "\n",
    "from tensorflow import keras\n",
    "from tensorflow.keras import layers"
   ]
  },
  {
   "cell_type": "markdown",
   "id": "aa8ef158",
   "metadata": {
    "id": "aa8ef158"
   },
   "source": [
    "Instead of scaling the data using a scikit-learn scaler, you can scale the data using a normalization layer."
   ]
  },
  {
   "cell_type": "code",
   "execution_count": 24,
   "id": "ad79a75b",
   "metadata": {
    "id": "ad79a75b"
   },
   "outputs": [],
   "source": [
    "# TO DO: Define normalization layer (1 mark)\n",
    "normalizer = tf.keras.layers.Normalization()\n",
    "normalizer.adapt(X_train_scaled)"
   ]
  },
  {
   "cell_type": "markdown",
   "id": "ddae1a41",
   "metadata": {
    "id": "ddae1a41"
   },
   "source": [
    "Using `keras.Sequential`, implement an MLP with the same hidden layer setups as above:"
   ]
  },
  {
   "cell_type": "code",
   "execution_count": 46,
   "id": "76e5197d",
   "metadata": {
    "colab": {
     "base_uri": "https://localhost:8080/"
    },
    "id": "76e5197d",
    "outputId": "6d99d292-3171-46c9-efc1-9392dcdcc22a"
   },
   "outputs": [
    {
     "name": "stdout",
     "output_type": "stream",
     "text": [
      "\u001b[1m5/5\u001b[0m \u001b[32m━━━━━━━━━━━━━━━━━━━━\u001b[0m\u001b[37m\u001b[0m \u001b[1m0s\u001b[0m 16ms/step\n"
     ]
    }
   ],
   "source": [
    "# TO DO: Implement MLP with one hidden layer with 100 nodes and the relu activation function (2 marks)\n",
    "# Compile the model with loss='mean_absolute_error' and optimizer=tf.keras.optimizers.Adam(0.001)\n",
    "# Fit the model using validation_split=0.2, verbose=0 and epochs=100\n",
    "tf_one = keras.Sequential([\n",
    "    normalizer,\n",
    "    layers.Dense(100, activation='relu'),\n",
    "    layers.Dense(1)\n",
    "])\n",
    "tf_one.compile(loss='mean_absolute_error', optimizer=tf.keras.optimizers.Adam(0.001))\n",
    "tf_one.fit(X_train_scaled, y_train, validation_split = 0.2, verbose = 0, epochs = 100)\n",
    "y_pred_tf_one = tf_one.predict(X_test_scaled).flatten()"
   ]
  },
  {
   "cell_type": "code",
   "execution_count": 47,
   "id": "c03dea4f",
   "metadata": {
    "colab": {
     "base_uri": "https://localhost:8080/"
    },
    "id": "c03dea4f",
    "outputId": "137ac42c-bc9b-43c1-c2bb-0fab15625254"
   },
   "outputs": [
    {
     "name": "stdout",
     "output_type": "stream",
     "text": [
      "\u001b[1m5/5\u001b[0m \u001b[32m━━━━━━━━━━━━━━━━━━━━\u001b[0m\u001b[37m\u001b[0m \u001b[1m0s\u001b[0m 16ms/step\n"
     ]
    }
   ],
   "source": [
    "# TO DO: Repeat with two hidden layers with 100 nodes each and the relu activation function (1 mark)\n",
    "tf_two = keras.Sequential([\n",
    "    normalizer,\n",
    "    layers.Dense(100, activation = 'relu'),\n",
    "    layers.Dense(100, activation = 'relu'),\n",
    "    layers.Dense(1)\n",
    "])\n",
    "tf_two.compile(loss = 'mean_absolute_error', optimizer = tf.keras.optimizers.Adam(0.001))\n",
    "tf_two.fit(X_train_scaled, y_train, validation_split = 0.2, verbose = 0, epochs = 100)\n",
    "y_pred_tf_two = tf_two.predict(X_test_scaled).flatten()"
   ]
  },
  {
   "cell_type": "code",
   "execution_count": 48,
   "id": "72bd5a5b",
   "metadata": {
    "colab": {
     "base_uri": "https://localhost:8080/"
    },
    "id": "72bd5a5b",
    "outputId": "db4b19b2-4f64-48cc-e210-9d1e1fe88e72"
   },
   "outputs": [
    {
     "name": "stdout",
     "output_type": "stream",
     "text": [
      "\u001b[1m5/5\u001b[0m \u001b[32m━━━━━━━━━━━━━━━━━━━━\u001b[0m\u001b[37m\u001b[0m \u001b[1m0s\u001b[0m 16ms/step\n"
     ]
    }
   ],
   "source": [
    "# TO DO: Repeat with three hidden layers with 100 nodes each and the relu activation function (1 mark)\n",
    "tf_three = keras.Sequential([\n",
    "    normalizer,\n",
    "    layers.Dense(100, activation = 'relu'),\n",
    "    layers.Dense(100, activation = 'relu'),\n",
    "    layers.Dense(100, activation = 'relu'),\n",
    "    layers.Dense(1)\n",
    "])\n",
    "tf_three.compile(loss = 'mean_absolute_error', optimizer = tf.keras.optimizers.Adam(0.001))\n",
    "tf_three.fit(X_train_scaled, y_train, validation_split = 0.2, verbose = 0, epochs = 100)\n",
    "y_pred_tf_three = tf_three.predict(X_test_scaled).flatten()"
   ]
  },
  {
   "cell_type": "markdown",
   "id": "06cbabc6",
   "metadata": {
    "id": "06cbabc6"
   },
   "source": [
    "### Step 4: Compare the accuracy of both methods (4 marks)\n",
    "\n",
    "For this part, calculate the mean absolute error for each model and print in a table using pandas"
   ]
  },
  {
   "cell_type": "code",
   "execution_count": 49,
   "id": "9c5c1b86",
   "metadata": {
    "id": "9c5c1b86"
   },
   "outputs": [],
   "source": [
    "# TO DO: Calculate the MAE for the three scikit-learn tests (1.5 marks)\n",
    "from sklearn.metrics import mean_absolute_error\n",
    "mae_mlp_one = mean_absolute_error(y_test, y_pred_one)\n",
    "mae_mlp_two = mean_absolute_error(y_test, y_pred_two)\n",
    "mae_mlp_three = mean_absolute_error(y_test, y_pred_three)"
   ]
  },
  {
   "cell_type": "code",
   "execution_count": 50,
   "id": "6b4f3926",
   "metadata": {
    "id": "6b4f3926"
   },
   "outputs": [],
   "source": [
    "# TO DO: Calculate the MAE for the three TensorFlow tests (1.5 marks)\n",
    "mae_tf_one = mean_absolute_error(y_test, y_pred_tf_one)\n",
    "mae_tf_two = mean_absolute_error(y_test, y_pred_tf_two)\n",
    "mae_tf_three = mean_absolute_error(y_test, y_pred_tf_three)"
   ]
  },
  {
   "cell_type": "code",
   "execution_count": 51,
   "id": "62bf09ef",
   "metadata": {
    "colab": {
     "base_uri": "https://localhost:8080/"
    },
    "id": "62bf09ef",
    "outputId": "98507443-5482-40c8-c9b5-9e3f3104d56b"
   },
   "outputs": [
    {
     "name": "stdout",
     "output_type": "stream",
     "text": [
      "MLP One Layer : 0.9935643453443658\n",
      "MLP Two Layers : 2.094192696262098\n",
      "MLP Three Layers : 0.8060847293078196\n",
      "Tensor One Layer : 2.3239397612485013\n",
      "Tensor Two Layers : 2.2870949839307118\n",
      "Tensor Three Layers : 1.3240993605031597\n"
     ]
    }
   ],
   "source": [
    "# TO DO: Print the results (1 mark)\n",
    "results = {\n",
    "    \"MLP One Layer\": mae_mlp_one,\n",
    "    \"MLP Two Layers\": mae_mlp_two,\n",
    "    \"MLP Three Layers\": mae_mlp_three,\n",
    "    \"Tensor One Layer\": mae_tf_one,\n",
    "    \"Tensor Two Layers\": mae_tf_two,\n",
    "    \"Tensor Three Layers\": mae_tf_three\n",
    "}\n",
    "\n",
    "for key in results:\n",
    "    print(key, \":\", results[key])"
   ]
  },
  {
   "cell_type": "markdown",
   "id": "ebae05b6",
   "metadata": {
    "id": "ebae05b6"
   },
   "source": [
    "### Questions (5 marks)\n",
    "\n",
    "1. Which model produced the least amount of error?\n",
    "1. Do the results change if you run your code multiple times? Why or why not?\n",
    "1.  Why are the numbers different between the scikit-learn and TensorFlow methods when we used the same number of hidden layers and hidden units per layer? List two potential reasons.\n",
    "\n",
    "- The MLPRegressor model with three layers produced the least amount of error with a value of 0.806.\n",
    "- The results change, albeit very slightly. This may be because of the randomized initialization process, as neural networks start with random weights, which affects training.\n",
    "- One reason the numbers are different between the methods due to the different default settings between both methods, such as optimizers. The optimizer used with tensorflow and the optimizer used in sklearn may have different parameters/effects. Another reason for the difference is the epoch value. When using tensorflow, we manually set epochs = 100, whereas sklearn may have its own value that differs."
   ]
  },
  {
   "cell_type": "markdown",
   "id": "fcc847c4",
   "metadata": {
    "id": "fcc847c4"
   },
   "source": [
    "### Process Description (4 marks)\n",
    "Please describe the process you used to create your code. Cite any websites or generative AI tools used. You can use the following questions as guidance:\n",
    "1. Where did you source your code?\n",
    "1. In what order did you complete the steps?\n",
    "1. If you used generative AI, what prompts did you use? Did you need to modify the code at all? Why or why not?\n",
    "1. Did you have any challenges? If yes, what were they? If not, what helped you to be successful?\n",
    "\n",
    "- I sourced my code from lecture slides, examples, and generative AI.\n",
    "- I completed the steps in the exact order they were provided.\n",
    "- I used generative AI to help with errors and for points of confusion. I did need to modify the code at times due to it altering my own code, making code excessively complicated, or adding unnecessary detail that was beyond the scope of the assignment. The prompts I used involved providing the AI with text/code and asking it to explain the process or provide information on how it worked.\n",
    "- I did find step 3 challenging as I was unsure if I was correctly executing the steps. I also had issues using tensorflow, as the module was not working in Jupyter notebook, although this was likely a local issue with my machine. I switched to Google Colaboratory to complete the remainder of the assignment."
   ]
  },
  {
   "cell_type": "markdown",
   "id": "353717fd",
   "metadata": {
    "id": "353717fd"
   },
   "source": [
    "## Part 3: Reflection (2 marks)\n",
    "Include a sentence or two about:\n",
    "- what you liked or disliked,\n",
    "- found interesting, confusing, challangeing, motivating\n",
    "while working on this assignment.\n",
    "\n",
    "\n",
    "- As with the other assignments through the semester, I appreciated the step-by-step presentation of the work, as well as the mark breakdown being listed with each part of the assignment.\n",
    "- I found the process of implementing neural networks to be quite interesting."
   ]
  },
  {
   "cell_type": "code",
   "execution_count": null,
   "id": "1ae29168",
   "metadata": {
    "id": "1ae29168"
   },
   "outputs": [],
   "source": []
  }
 ],
 "metadata": {
  "colab": {
   "provenance": []
  },
  "kernelspec": {
   "display_name": "Python 3 (ipykernel)",
   "language": "python",
   "name": "python3"
  },
  "language_info": {
   "codemirror_mode": {
    "name": "ipython",
    "version": 3
   },
   "file_extension": ".py",
   "mimetype": "text/x-python",
   "name": "python",
   "nbconvert_exporter": "python",
   "pygments_lexer": "ipython3",
   "version": "3.9.12"
  }
 },
 "nbformat": 4,
 "nbformat_minor": 5
}
